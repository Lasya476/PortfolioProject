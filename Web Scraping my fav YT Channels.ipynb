{
 "cells": [
  {
   "cell_type": "code",
   "execution_count": null,
   "id": "d82b0f25",
   "metadata": {},
   "outputs": [],
   "source": [
    "pip install google-auth==1.35.0 google-api-core==1.31.0 google-api-python-client"
   ]
  },
  {
   "cell_type": "code",
   "execution_count": null,
   "id": "3c52e7cb",
   "metadata": {},
   "outputs": [],
   "source": [
    "pip install google-cloud-storage google-cloud-core"
   ]
  },
  {
   "cell_type": "code",
   "execution_count": null,
   "id": "18a80aa4",
   "metadata": {},
   "outputs": [],
   "source": [
    "from googleapiclient.discovery import build\n",
    "import pandas as pd\n",
    "import seaborn as sns"
   ]
  },
  {
   "cell_type": "code",
   "execution_count": null,
   "id": "94b0d3c4",
   "metadata": {},
   "outputs": [],
   "source": [
    "# api_key = 'Insert your API Key here' #uncomment this to do so\n",
    "channel_id = ''"
   ]
  },
  {
   "cell_type": "code",
   "execution_count": null,
   "id": "f503ad88",
   "metadata": {},
   "outputs": [],
   "source": [
    "from googleapiclient.discovery import build\n",
    "\n",
    "# API key\n",
    " # api_key = 'Insert your API Key here'\n",
    "\n",
    "# Initialize YouTube API client\n",
    "youtube = build('youtube', 'v3', developerKey=api_key)\n",
    "\n",
    "# Replace with the custom channel name or username\n",
    "channel_name = 'GoogleDevelopers'\n",
    "\n",
    "# Make a request to the API to search for the channel\n",
    "request = youtube.channels().list(\n",
    "    part='id,snippet',\n",
    "    forUsername=channel_name\n",
    ")\n",
    "response = request.execute()\n",
    "\n",
    "# Extract the channel ID\n",
    "for channel in response['items']:\n",
    "    print(f\"Channel ID: {channel['id']}\")"
   ]
  },
  {
   "cell_type": "code",
   "execution_count": null,
   "id": "301e2413",
   "metadata": {},
   "outputs": [],
   "source": [
    "from googleapiclient.discovery import build\n",
    "\n",
    "# API key\n",
    "api_key = 'Insert your API Key here'\n",
    "\n",
    "# Initialize YouTube API client\n",
    "youtube = build('youtube', 'v3', developerKey=api_key)\n",
    "\n",
    "# Use the handle (without the @ symbol)\n",
    "channel_handle = 'HouseOfHighbrations'\n",
    "\n",
    "# Use the search method to find the channel by handle\n",
    "search_response = youtube.search().list(\n",
    "    part=\"snippet\",\n",
    "    q=channel_handle,\n",
    "    type=\"channel\",\n",
    "    maxResults=1\n",
    ").execute()\n",
    "\n",
    "# Check if the response contains items\n",
    "if 'items' in search_response and len(search_response['items']) > 0:\n",
    "    # Extract the channel ID\n",
    "    channel_id = search_response['items'][0]['snippet']['channelId']\n",
    "    print(f\"Channel ID: {channel_id}\")\n",
    "else:\n",
    "    print(\"Channel not found or no results returned.\")\n"
   ]
  },
  {
   "cell_type": "code",
   "execution_count": null,
   "id": "35d21c69",
   "metadata": {},
   "outputs": [],
   "source": [
    "# api_key = 'Insert your API Key here'  uncomment this to insert your api key\n",
    "#channel_id = 'UCBnHZUkOqg73h7gWiIu0ITA'\n",
    "\n",
    "channel_ids = [ 'UC64KwGynvj3hA7T0C9gC5cA', 'UCBnHZUkOqg73h7gWiIu0ITA', \n",
    "               'UCoKJEWNZB8VxqrRLpguujGA', 'UCQjxn11O8QqMhPWApRcSUjw']\n",
    "\n",
    "\n",
    "youtube = build('youtube', 'v3', developerKey = api_key)"
   ]
  },
  {
   "cell_type": "markdown",
   "id": "064fc345",
   "metadata": {},
   "source": [
    "## Function to get Channel Statistics "
   ]
  },
  {
   "cell_type": "code",
   "execution_count": null,
   "id": "fb9e4ba6",
   "metadata": {},
   "outputs": [],
   "source": [
    "def get_channel_stats(youtube, channel_ids):\n",
    "    all_data = []\n",
    "    request = youtube.channels().list(\n",
    "                      part='snippet, contentDetails, statistics', id = ','.join(channel_ids))\n",
    "    response = request.execute()\n",
    "    \n",
    "    for i in range(len(response['items'])):\n",
    "        data = dict(Channel_name = response['items'][i]['snippet']['title'],\n",
    "                    Subscribers = response['items'][i]['statistics']['subscriberCount'],\n",
    "                    Views = response['items'][i]['statistics']['viewCount'],\n",
    "                    Total_videos = response['items'][i]['statistics']['videoCount'], \n",
    "                    playlist_id = response['items'][i]['contentDetails']['relatedPlaylists']['uploads']) #added uploads\n",
    "        all_data.append(data)\n",
    "                \n",
    "    return all_data"
   ]
  },
  {
   "cell_type": "code",
   "execution_count": null,
   "id": "1baea7a3",
   "metadata": {},
   "outputs": [],
   "source": [
    "channel_statistics = get_channel_stats(youtube, channel_ids)"
   ]
  },
  {
   "cell_type": "code",
   "execution_count": null,
   "id": "2ff4ea67",
   "metadata": {},
   "outputs": [],
   "source": [
    "channel_data = pd.DataFrame(channel_statistics)"
   ]
  },
  {
   "cell_type": "code",
   "execution_count": null,
   "id": "2529e59b",
   "metadata": {},
   "outputs": [],
   "source": [
    "channel_data"
   ]
  },
  {
   "cell_type": "code",
   "execution_count": null,
   "id": "c93ab97d",
   "metadata": {},
   "outputs": [],
   "source": [
    "channel_data.dtypes"
   ]
  },
  {
   "cell_type": "code",
   "execution_count": null,
   "id": "ef6f45b7",
   "metadata": {},
   "outputs": [],
   "source": [
    "channel_data['Subscribers'] = pd.to_numeric(channel_data['Subscribers'])\n",
    "channel_data['Views'] = pd.to_numeric(channel_data['Views'])\n",
    "channel_data['Total_videos'] = pd.to_numeric(channel_data['Total_videos'])"
   ]
  },
  {
   "cell_type": "code",
   "execution_count": null,
   "id": "7b1dcc61",
   "metadata": {},
   "outputs": [],
   "source": [
    "channel_data.dtypes"
   ]
  },
  {
   "cell_type": "code",
   "execution_count": null,
   "id": "b9f934c9",
   "metadata": {},
   "outputs": [],
   "source": [
    "sns.set(rc= {'figure.figsize': (10,8)})\n",
    "ax = sns.barplot( x = 'Channel_name', y = 'Subscribers', data = channel_data)"
   ]
  },
  {
   "cell_type": "code",
   "execution_count": null,
   "id": "005ee22e",
   "metadata": {},
   "outputs": [],
   "source": [
    "sns.set(rc= {'figure.figsize': (10,8)})\n",
    "ax = sns.barplot( x = 'Channel_name', y = 'Views', data = channel_data)"
   ]
  },
  {
   "cell_type": "code",
   "execution_count": null,
   "id": "e6527e40",
   "metadata": {},
   "outputs": [],
   "source": [
    "sns.set(rc= {'figure.figsize': (10,8)})\n",
    "ax = sns.barplot( x = 'Channel_name', y = 'Total_videos', data = channel_data)"
   ]
  },
  {
   "cell_type": "markdown",
   "id": "c80ea46d",
   "metadata": {},
   "source": [
    "## Function to get videos IDs "
   ]
  },
  {
   "cell_type": "code",
   "execution_count": null,
   "id": "2ae66871",
   "metadata": {},
   "outputs": [],
   "source": [
    "channel_data "
   ]
  },
  {
   "cell_type": "code",
   "execution_count": null,
   "id": "8f794c5b",
   "metadata": {},
   "outputs": [],
   "source": [
    "playlist_id = channel_data.loc[channel_data['Channel_name']== 'Tam Kaur', 'playlist_id'].iloc[0]"
   ]
  },
  {
   "cell_type": "code",
   "execution_count": null,
   "id": "e2e1e22f",
   "metadata": {},
   "outputs": [],
   "source": [
    "playlist_id"
   ]
  },
  {
   "cell_type": "code",
   "execution_count": null,
   "id": "39e3c09a",
   "metadata": {},
   "outputs": [],
   "source": []
  },
  {
   "cell_type": "code",
   "execution_count": null,
   "id": "574a1826",
   "metadata": {},
   "outputs": [],
   "source": [
    "def get_video_ids(youtube, playlist_id):\n",
    "    # Initial request to get the first page of video IDs\n",
    "    request = youtube.playlistItems().list(\n",
    "        part='contentDetails', \n",
    "        playlistId=playlist_id,\n",
    "        maxResults=50\n",
    "    )\n",
    "    response = request.execute()\n",
    "    \n",
    "    video_ids = []\n",
    "    \n",
    "    # Append video IDs from the first page\n",
    "    for item in response['items']:\n",
    "        video_ids.append(item['contentDetails']['videoId'])\n",
    "    \n",
    "    # Pagination handling\n",
    "    next_page_token = response.get('nextPageToken')\n",
    "    \n",
    "    while next_page_token:\n",
    "        request = youtube.playlistItems().list(\n",
    "            part='contentDetails',\n",
    "            playlistId=playlist_id,\n",
    "            maxResults=50,\n",
    "            pageToken=next_page_token\n",
    "        )\n",
    "        response = request.execute()\n",
    "        \n",
    "        # Append video IDs from the subsequent pages\n",
    "        for item in response['items']:\n",
    "            video_ids.append(item['contentDetails']['videoId'])\n",
    "        \n",
    "        # Update next_page_token to check for more pages\n",
    "        next_page_token = response.get('nextPageToken')\n",
    "    \n",
    "    return video_ids\n",
    "\n",
    "# Example usage\n",
    "video_ids = get_video_ids(youtube, playlist_id)\n",
    "print(video_ids)"
   ]
  },
  {
   "cell_type": "code",
   "execution_count": 137,
   "id": "4242aaa9",
   "metadata": {},
   "outputs": [],
   "source": [
    "def get_video_details(youtube, video_ids):\n",
    "    all_video_stats = []\n",
    "    \n",
    "    for i in range(0, len(video_ids), 50):\n",
    "        request = youtube.videos().list(\n",
    "                       part= 'snippet, statistics', \n",
    "                       id = ','.join(video_ids[i:i+50]))\n",
    "\n",
    "        response = request.execute()\n",
    "        \n",
    "        for video in response['items']:\n",
    "            video_stats = dict(Title = video['snippet']['title'], \n",
    "                               Published_date = video['snippet']['publishedAt'], \n",
    "                               Views = video['statistics']['viewCount'],\n",
    "                               Likes = video['statistics'].get('likeCount', 0),\n",
    "                              #Dislikes = video['statistics']['viewCount'],\n",
    "                               Comments = video['statistics']['commentCount']\n",
    "                            )\n",
    "            all_video_stats.append(video_stats)\n",
    "            \n",
    "\n",
    "    return all_video_stats"
   ]
  },
  {
   "cell_type": "code",
   "execution_count": 139,
   "id": "acd5f704",
   "metadata": {
    "scrolled": true
   },
   "outputs": [],
   "source": [
    "video_details = get_video_details(youtube, video_ids)"
   ]
  },
  {
   "cell_type": "code",
   "execution_count": 140,
   "id": "be90fa9e",
   "metadata": {},
   "outputs": [
    {
     "name": "stdout",
     "output_type": "stream",
     "text": [
      "[{'Title': 'MY BOOK IS OUT NOW!', 'Published_date': '2024-08-17T14:58:00Z', 'Views': '82918', 'Likes': 0, 'Comments': '283'}]\n"
     ]
    }
   ],
   "source": [
    "# Assuming 'video_details' is your list of video data\n",
    "videos_with_na_likes = [video for video in video_details if video['Likes'] == 0]\n",
    "\n",
    "# Print or inspect the videos with 'N/A' likes\n",
    "print(videos_with_na_likes)\n"
   ]
  },
  {
   "cell_type": "code",
   "execution_count": 141,
   "id": "78c838f6",
   "metadata": {},
   "outputs": [],
   "source": [
    "video_details = pd.DataFrame(video_details)"
   ]
  },
  {
   "cell_type": "code",
   "execution_count": 142,
   "id": "71228ffe",
   "metadata": {},
   "outputs": [],
   "source": [
    "video_details['Published_date'] = pd.to_datetime(video_details['Published_date']).dt.date\n",
    "video_details['Views'] = pd.to_numeric(video_details['Views'])\n",
    "video_details['Likes'] = pd.to_numeric(video_details['Likes'])\n",
    "video_details['Comments'] = pd.to_numeric(video_details['Comments'])"
   ]
  },
  {
   "cell_type": "code",
   "execution_count": 144,
   "id": "8588e162",
   "metadata": {},
   "outputs": [
    {
     "data": {
      "text/plain": [
       "Title             object\n",
       "Published_date    object\n",
       "Views              int64\n",
       "Likes              int64\n",
       "Comments           int64\n",
       "dtype: object"
      ]
     },
     "execution_count": 144,
     "metadata": {},
     "output_type": "execute_result"
    }
   ],
   "source": [
    "video_details.dtypes"
   ]
  },
  {
   "cell_type": "code",
   "execution_count": 148,
   "id": "0367dec3",
   "metadata": {},
   "outputs": [],
   "source": [
    "top_10_videos = video_details.sort_values(by = 'Views', ascending = False).head(10)"
   ]
  },
  {
   "cell_type": "code",
   "execution_count": 149,
   "id": "271daeeb",
   "metadata": {},
   "outputs": [
    {
     "data": {
      "text/html": [
       "<div>\n",
       "<style scoped>\n",
       "    .dataframe tbody tr th:only-of-type {\n",
       "        vertical-align: middle;\n",
       "    }\n",
       "\n",
       "    .dataframe tbody tr th {\n",
       "        vertical-align: top;\n",
       "    }\n",
       "\n",
       "    .dataframe thead th {\n",
       "        text-align: right;\n",
       "    }\n",
       "</style>\n",
       "<table border=\"1\" class=\"dataframe\">\n",
       "  <thead>\n",
       "    <tr style=\"text-align: right;\">\n",
       "      <th></th>\n",
       "      <th>Title</th>\n",
       "      <th>Published_date</th>\n",
       "      <th>Views</th>\n",
       "      <th>Likes</th>\n",
       "      <th>Comments</th>\n",
       "    </tr>\n",
       "  </thead>\n",
       "  <tbody>\n",
       "    <tr>\n",
       "      <th>185</th>\n",
       "      <td>how to VALIDATE YOURSELF | stop seeking extern...</td>\n",
       "      <td>2023-02-22</td>\n",
       "      <td>1851129</td>\n",
       "      <td>115608</td>\n",
       "      <td>2166</td>\n",
       "    </tr>\n",
       "    <tr>\n",
       "      <th>178</th>\n",
       "      <td>how to be productive | discipline, healthy hab...</td>\n",
       "      <td>2023-04-07</td>\n",
       "      <td>1819906</td>\n",
       "      <td>75799</td>\n",
       "      <td>1007</td>\n",
       "    </tr>\n",
       "    <tr>\n",
       "      <th>188</th>\n",
       "      <td>HOW TO HAVE LUCKY GIRL SYNDROME: REAL tips to ...</td>\n",
       "      <td>2023-02-09</td>\n",
       "      <td>1779432</td>\n",
       "      <td>106187</td>\n",
       "      <td>1375</td>\n",
       "    </tr>\n",
       "    <tr>\n",
       "      <th>190</th>\n",
       "      <td>how to build REAL confidence: self-worth tips,...</td>\n",
       "      <td>2023-01-30</td>\n",
       "      <td>1689499</td>\n",
       "      <td>80461</td>\n",
       "      <td>1176</td>\n",
       "    </tr>\n",
       "    <tr>\n",
       "      <th>192</th>\n",
       "      <td>HOW TO RADIATE FEMININE ENERGY TO LIVE A SOFT ...</td>\n",
       "      <td>2023-01-19</td>\n",
       "      <td>1441584</td>\n",
       "      <td>69683</td>\n",
       "      <td>1364</td>\n",
       "    </tr>\n",
       "    <tr>\n",
       "      <th>179</th>\n",
       "      <td>how to REALLY be a high value woman | high val...</td>\n",
       "      <td>2023-03-30</td>\n",
       "      <td>1335819</td>\n",
       "      <td>56607</td>\n",
       "      <td>950</td>\n",
       "    </tr>\n",
       "    <tr>\n",
       "      <th>166</th>\n",
       "      <td>HOW TO MANIFEST YOUR DREAM LIFE | ATTRACT ALL ...</td>\n",
       "      <td>2023-06-30</td>\n",
       "      <td>1318690</td>\n",
       "      <td>77956</td>\n",
       "      <td>1996</td>\n",
       "    </tr>\n",
       "    <tr>\n",
       "      <th>148</th>\n",
       "      <td>confidence baby.</td>\n",
       "      <td>2023-10-18</td>\n",
       "      <td>1085054</td>\n",
       "      <td>86565</td>\n",
       "      <td>438</td>\n",
       "    </tr>\n",
       "    <tr>\n",
       "      <th>156</th>\n",
       "      <td>how to CONQUER high school | back to school pr...</td>\n",
       "      <td>2023-08-25</td>\n",
       "      <td>1085051</td>\n",
       "      <td>73796</td>\n",
       "      <td>1361</td>\n",
       "    </tr>\n",
       "    <tr>\n",
       "      <th>181</th>\n",
       "      <td>how to emotionally DETACH | master detachment ...</td>\n",
       "      <td>2023-03-17</td>\n",
       "      <td>1073742</td>\n",
       "      <td>59267</td>\n",
       "      <td>1102</td>\n",
       "    </tr>\n",
       "  </tbody>\n",
       "</table>\n",
       "</div>"
      ],
      "text/plain": [
       "                                                 Title Published_date  \\\n",
       "185  how to VALIDATE YOURSELF | stop seeking extern...     2023-02-22   \n",
       "178  how to be productive | discipline, healthy hab...     2023-04-07   \n",
       "188  HOW TO HAVE LUCKY GIRL SYNDROME: REAL tips to ...     2023-02-09   \n",
       "190  how to build REAL confidence: self-worth tips,...     2023-01-30   \n",
       "192  HOW TO RADIATE FEMININE ENERGY TO LIVE A SOFT ...     2023-01-19   \n",
       "179  how to REALLY be a high value woman | high val...     2023-03-30   \n",
       "166  HOW TO MANIFEST YOUR DREAM LIFE | ATTRACT ALL ...     2023-06-30   \n",
       "148                                   confidence baby.     2023-10-18   \n",
       "156  how to CONQUER high school | back to school pr...     2023-08-25   \n",
       "181  how to emotionally DETACH | master detachment ...     2023-03-17   \n",
       "\n",
       "       Views   Likes  Comments  \n",
       "185  1851129  115608      2166  \n",
       "178  1819906   75799      1007  \n",
       "188  1779432  106187      1375  \n",
       "190  1689499   80461      1176  \n",
       "192  1441584   69683      1364  \n",
       "179  1335819   56607       950  \n",
       "166  1318690   77956      1996  \n",
       "148  1085054   86565       438  \n",
       "156  1085051   73796      1361  \n",
       "181  1073742   59267      1102  "
      ]
     },
     "execution_count": 149,
     "metadata": {},
     "output_type": "execute_result"
    }
   ],
   "source": [
    "top_10_videos"
   ]
  },
  {
   "cell_type": "code",
   "execution_count": 151,
   "id": "7b2fd31b",
   "metadata": {},
   "outputs": [
    {
     "name": "stderr",
     "output_type": "stream",
     "text": [
      "/opt/anaconda3/lib/python3.9/site-packages/IPython/core/pylabtools.py:151: UserWarning: Glyph 128150 (\\N{SPARKLING HEART}) missing from current font.\n",
      "  fig.canvas.print_figure(bytes_io, **kw)\n"
     ]
    },
    {
     "data": {
      "image/png": "[encoded data removed]",
      "text/plain": [
       "<Figure size 720x576 with 1 Axes>"
      ]
     },
     "metadata": {},
     "output_type": "display_data"
    }
   ],
   "source": [
    "ax1 = sns.barplot(x= 'Views', y = 'Title', data = top_10_videos)"
   ]
  },
  {
   "cell_type": "code",
   "execution_count": null,
   "id": "fe098f43",
   "metadata": {},
   "outputs": [],
   "source": [
    "df['DayOfWeek'] = df['DATE OCC'].dt.day_name()"
   ]
  },
  {
   "cell_type": "code",
   "execution_count": 153,
   "id": "bdb62085",
   "metadata": {},
   "outputs": [],
   "source": [
    "video_details['Month'] = pd.to_datetime(video_details['Published_date']).dt.strftime('%b')"
   ]
  },
  {
   "cell_type": "code",
   "execution_count": 154,
   "id": "b3609bc5",
   "metadata": {},
   "outputs": [
    {
     "data": {
      "text/html": [
       "<div>\n",
       "<style scoped>\n",
       "    .dataframe tbody tr th:only-of-type {\n",
       "        vertical-align: middle;\n",
       "    }\n",
       "\n",
       "    .dataframe tbody tr th {\n",
       "        vertical-align: top;\n",
       "    }\n",
       "\n",
       "    .dataframe thead th {\n",
       "        text-align: right;\n",
       "    }\n",
       "</style>\n",
       "<table border=\"1\" class=\"dataframe\">\n",
       "  <thead>\n",
       "    <tr style=\"text-align: right;\">\n",
       "      <th></th>\n",
       "      <th>Title</th>\n",
       "      <th>Published_date</th>\n",
       "      <th>Views</th>\n",
       "      <th>Likes</th>\n",
       "      <th>Comments</th>\n",
       "      <th>Month</th>\n",
       "    </tr>\n",
       "  </thead>\n",
       "  <tbody>\n",
       "    <tr>\n",
       "      <th>0</th>\n",
       "      <td>get picky with your friends.</td>\n",
       "      <td>2024-10-20</td>\n",
       "      <td>21680</td>\n",
       "      <td>3407</td>\n",
       "      <td>24</td>\n",
       "      <td>Oct</td>\n",
       "    </tr>\n",
       "    <tr>\n",
       "      <th>1</th>\n",
       "      <td>the most EFFECTIVE journalling method</td>\n",
       "      <td>2024-10-16</td>\n",
       "      <td>32876</td>\n",
       "      <td>5446</td>\n",
       "      <td>18</td>\n",
       "      <td>Oct</td>\n",
       "    </tr>\n",
       "    <tr>\n",
       "      <th>2</th>\n",
       "      <td>SEEING MY BOOK IN STORE FOR THE FIRST TIME!!!</td>\n",
       "      <td>2024-10-13</td>\n",
       "      <td>85955</td>\n",
       "      <td>8758</td>\n",
       "      <td>62</td>\n",
       "      <td>Oct</td>\n",
       "    </tr>\n",
       "    <tr>\n",
       "      <th>3</th>\n",
       "      <td>hot girl book recommendations that will help y...</td>\n",
       "      <td>2024-10-11</td>\n",
       "      <td>63379</td>\n",
       "      <td>4813</td>\n",
       "      <td>237</td>\n",
       "      <td>Oct</td>\n",
       "    </tr>\n",
       "    <tr>\n",
       "      <th>4</th>\n",
       "      <td>Speaking up to close the gender pay gap. Watch...</td>\n",
       "      <td>2024-10-10</td>\n",
       "      <td>10408</td>\n",
       "      <td>661</td>\n",
       "      <td>8</td>\n",
       "      <td>Oct</td>\n",
       "    </tr>\n",
       "    <tr>\n",
       "      <th>...</th>\n",
       "      <td>...</td>\n",
       "      <td>...</td>\n",
       "      <td>...</td>\n",
       "      <td>...</td>\n",
       "      <td>...</td>\n",
       "      <td>...</td>\n",
       "    </tr>\n",
       "    <tr>\n",
       "      <th>206</th>\n",
       "      <td>one whole year of self-love reflection</td>\n",
       "      <td>2021-12-30</td>\n",
       "      <td>27361</td>\n",
       "      <td>1207</td>\n",
       "      <td>41</td>\n",
       "      <td>Dec</td>\n",
       "    </tr>\n",
       "    <tr>\n",
       "      <th>207</th>\n",
       "      <td>this will make you quit social media…</td>\n",
       "      <td>2021-09-24</td>\n",
       "      <td>40087</td>\n",
       "      <td>1950</td>\n",
       "      <td>55</td>\n",
       "      <td>Sep</td>\n",
       "    </tr>\n",
       "    <tr>\n",
       "      <th>208</th>\n",
       "      <td>How to Overcome Heartbreak / 7 Steps to GET OV...</td>\n",
       "      <td>2021-01-24</td>\n",
       "      <td>36933</td>\n",
       "      <td>1583</td>\n",
       "      <td>45</td>\n",
       "      <td>Jan</td>\n",
       "    </tr>\n",
       "    <tr>\n",
       "      <th>209</th>\n",
       "      <td>How I Became Confident | Tam Kaur</td>\n",
       "      <td>2021-01-10</td>\n",
       "      <td>138577</td>\n",
       "      <td>8157</td>\n",
       "      <td>159</td>\n",
       "      <td>Jan</td>\n",
       "    </tr>\n",
       "    <tr>\n",
       "      <th>210</th>\n",
       "      <td>Tamanna Live Stream</td>\n",
       "      <td>2020-05-31</td>\n",
       "      <td>0</td>\n",
       "      <td>0</td>\n",
       "      <td>0</td>\n",
       "      <td>May</td>\n",
       "    </tr>\n",
       "  </tbody>\n",
       "</table>\n",
       "<p>211 rows × 6 columns</p>\n",
       "</div>"
      ],
      "text/plain": [
       "                                                 Title Published_date   Views  \\\n",
       "0                         get picky with your friends.     2024-10-20   21680   \n",
       "1                the most EFFECTIVE journalling method     2024-10-16   32876   \n",
       "2        SEEING MY BOOK IN STORE FOR THE FIRST TIME!!!     2024-10-13   85955   \n",
       "3    hot girl book recommendations that will help y...     2024-10-11   63379   \n",
       "4    Speaking up to close the gender pay gap. Watch...     2024-10-10   10408   \n",
       "..                                                 ...            ...     ...   \n",
       "206             one whole year of self-love reflection     2021-12-30   27361   \n",
       "207              this will make you quit social media…     2021-09-24   40087   \n",
       "208  How to Overcome Heartbreak / 7 Steps to GET OV...     2021-01-24   36933   \n",
       "209                  How I Became Confident | Tam Kaur     2021-01-10  138577   \n",
       "210                                Tamanna Live Stream     2020-05-31       0   \n",
       "\n",
       "     Likes  Comments Month  \n",
       "0     3407        24   Oct  \n",
       "1     5446        18   Oct  \n",
       "2     8758        62   Oct  \n",
       "3     4813       237   Oct  \n",
       "4      661         8   Oct  \n",
       "..     ...       ...   ...  \n",
       "206   1207        41   Dec  \n",
       "207   1950        55   Sep  \n",
       "208   1583        45   Jan  \n",
       "209   8157       159   Jan  \n",
       "210      0         0   May  \n",
       "\n",
       "[211 rows x 6 columns]"
      ]
     },
     "execution_count": 154,
     "metadata": {},
     "output_type": "execute_result"
    }
   ],
   "source": [
    "video_details"
   ]
  },
  {
   "cell_type": "code",
   "execution_count": 157,
   "id": "417c090a",
   "metadata": {},
   "outputs": [],
   "source": [
    "# number of videos per month\n",
    "\n",
    "videos_per_month = video_details.groupby('Month', as_index = False).size() #converting it to a df using as_index = False"
   ]
  },
  {
   "cell_type": "code",
   "execution_count": 158,
   "id": "f8a57bf7",
   "metadata": {},
   "outputs": [
    {
     "data": {
      "text/html": [
       "<div>\n",
       "<style scoped>\n",
       "    .dataframe tbody tr th:only-of-type {\n",
       "        vertical-align: middle;\n",
       "    }\n",
       "\n",
       "    .dataframe tbody tr th {\n",
       "        vertical-align: top;\n",
       "    }\n",
       "\n",
       "    .dataframe thead th {\n",
       "        text-align: right;\n",
       "    }\n",
       "</style>\n",
       "<table border=\"1\" class=\"dataframe\">\n",
       "  <thead>\n",
       "    <tr style=\"text-align: right;\">\n",
       "      <th></th>\n",
       "      <th>Month</th>\n",
       "      <th>size</th>\n",
       "    </tr>\n",
       "  </thead>\n",
       "  <tbody>\n",
       "    <tr>\n",
       "      <th>0</th>\n",
       "      <td>Apr</td>\n",
       "      <td>18</td>\n",
       "    </tr>\n",
       "    <tr>\n",
       "      <th>1</th>\n",
       "      <td>Aug</td>\n",
       "      <td>24</td>\n",
       "    </tr>\n",
       "    <tr>\n",
       "      <th>2</th>\n",
       "      <td>Dec</td>\n",
       "      <td>10</td>\n",
       "    </tr>\n",
       "    <tr>\n",
       "      <th>3</th>\n",
       "      <td>Feb</td>\n",
       "      <td>16</td>\n",
       "    </tr>\n",
       "    <tr>\n",
       "      <th>4</th>\n",
       "      <td>Jan</td>\n",
       "      <td>12</td>\n",
       "    </tr>\n",
       "    <tr>\n",
       "      <th>5</th>\n",
       "      <td>Jul</td>\n",
       "      <td>21</td>\n",
       "    </tr>\n",
       "    <tr>\n",
       "      <th>6</th>\n",
       "      <td>Jun</td>\n",
       "      <td>20</td>\n",
       "    </tr>\n",
       "    <tr>\n",
       "      <th>7</th>\n",
       "      <td>Mar</td>\n",
       "      <td>22</td>\n",
       "    </tr>\n",
       "    <tr>\n",
       "      <th>8</th>\n",
       "      <td>May</td>\n",
       "      <td>21</td>\n",
       "    </tr>\n",
       "    <tr>\n",
       "      <th>9</th>\n",
       "      <td>Nov</td>\n",
       "      <td>10</td>\n",
       "    </tr>\n",
       "    <tr>\n",
       "      <th>10</th>\n",
       "      <td>Oct</td>\n",
       "      <td>16</td>\n",
       "    </tr>\n",
       "    <tr>\n",
       "      <th>11</th>\n",
       "      <td>Sep</td>\n",
       "      <td>21</td>\n",
       "    </tr>\n",
       "  </tbody>\n",
       "</table>\n",
       "</div>"
      ],
      "text/plain": [
       "   Month  size\n",
       "0    Apr    18\n",
       "1    Aug    24\n",
       "2    Dec    10\n",
       "3    Feb    16\n",
       "4    Jan    12\n",
       "5    Jul    21\n",
       "6    Jun    20\n",
       "7    Mar    22\n",
       "8    May    21\n",
       "9    Nov    10\n",
       "10   Oct    16\n",
       "11   Sep    21"
      ]
     },
     "execution_count": 158,
     "metadata": {},
     "output_type": "execute_result"
    }
   ],
   "source": [
    "videos_per_month"
   ]
  },
  {
   "cell_type": "code",
   "execution_count": 159,
   "id": "c77d3dea",
   "metadata": {},
   "outputs": [],
   "source": [
    "# To sort the above output by month - we will use the categorical index. Convert index into month value and sort them\n",
    "\n",
    "# in order to do that we need a sort order \n",
    "\n",
    "sort_order = ['Jan', 'Feb', 'Mar', 'Apr', 'May', 'Jun', 'Jul', 'Aug', 'Sep', 'Oct', 'Nov', 'Dec']"
   ]
  },
  {
   "cell_type": "code",
   "execution_count": 161,
   "id": "8226c89b",
   "metadata": {},
   "outputs": [],
   "source": [
    "videos_per_month.index = pd.CategoricalIndex(videos_per_month['Month'], categories = sort_order, ordered = True)"
   ]
  },
  {
   "cell_type": "code",
   "execution_count": 164,
   "id": "046bd639",
   "metadata": {},
   "outputs": [],
   "source": [
    "videos_per_month = videos_per_month.sort_index()"
   ]
  },
  {
   "cell_type": "code",
   "execution_count": 165,
   "id": "3d50a5c4",
   "metadata": {},
   "outputs": [
    {
     "data": {
      "image/png": "[encoded data removed]",
      "text/plain": [
       "<Figure size 720x576 with 1 Axes>"
      ]
     },
     "metadata": {},
     "output_type": "display_data"
    }
   ],
   "source": [
    "ax2 = sns.barplot(x = 'Month', y = 'size', data = videos_per_month)"
   ]
  },
  {
   "cell_type": "code",
   "execution_count": 166,
   "id": "fa9cf44b",
   "metadata": {},
   "outputs": [],
   "source": [
    "video_details.to_csv('Video Details of Tam Kaur.csv')"
   ]
  },
  {
   "cell_type": "code",
   "execution_count": null,
   "id": "0d168115",
   "metadata": {},
   "outputs": [],
   "source": []
  }
 ],
 "metadata": {
  "kernelspec": {
   "display_name": "Python 3 (ipykernel)",
   "language": "python",
   "name": "python3"
  },
  "language_info": {
   "codemirror_mode": {
    "name": "ipython",
    "version": 3
   },
   "file_extension": ".py",
   "mimetype": "text/x-python",
   "name": "python",
   "nbconvert_exporter": "python",
   "pygments_lexer": "ipython3",
   "version": "3.9.12"
  }
 },
 "nbformat": 4,
 "nbformat_minor": 5
}
