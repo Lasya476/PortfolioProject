{
 "cells": [
  {
   "cell_type": "code",
   "execution_count": null,
   "id": "204023e7-5998-402d-af8c-b419e71a97e2",
   "metadata": {},
   "outputs": [],
   "source": [
    "from requests import Request, Session\n",
    "from requests.exceptions import ConnectionError, Timeout, TooManyRedirects\n",
    "import json\n",
    "import os\n",
    "import pandas as pd\n",
    "from datetime import datetime\n",
    "from time import sleep\n",
    "\n",
    "# Set pandas option to display all columns\n",
    "pd.set_option('display.max_columns', None)\n",
    "\n",
    "# Define global DataFrame to collect all data\n",
    "df = pd.DataFrame()\n",
    "\n",
    "# Function to run the API call and append data\n",
    "def api_runner():\n",
    "    url = 'https://pro-api.coinmarketcap.com/v1/cryptocurrency/listings/latest'  \n",
    "    parameters = {\n",
    "      'start': '1',\n",
    "      'limit': '5000',\n",
    "      'convert': 'USD'\n",
    "    }\n",
    "    headers = {\n",
    "      'Accepts': 'application/json',\n",
    "      'X-CMC_PRO_API_KEY': '3d98ebe0-3e34-4009-aeb5-e6dc0ff2e368',  # Insert your API Key here \n",
    "    }\n",
    "    \n",
    "    session = Session()\n",
    "    session.headers.update(headers)\n",
    "    \n",
    "    try:\n",
    "        response = session.get(url, params=parameters)\n",
    "        data = json.loads(response.text)\n",
    "        \n",
    "        # Normalize the JSON response into a pandas DataFrame\n",
    "        updated_data = pd.json_normalize(data['data']) \n",
    "        \n",
    "        # Use datetime.now() instead of 'now' for timestamp\n",
    "        updated_data['timestamp'] = pd.to_datetime(datetime.now())\n",
    "        \n",
    "        # Declare global df so it doesn't get overwritten\n",
    "        global df\n",
    "        \n",
    "        # Concatenate the new data with the existing df (optimized for empty df)\n",
    "        if df.empty:\n",
    "            df = updated_data  # If df is empty, assign updated_data directly\n",
    "        else:\n",
    "            df = pd.concat([df, updated_data], ignore_index=True)\n",
    "            \n",
    "         # Save the DataFrame to CSV\n",
    "        if not os.path.isfile(r'/Users/lasya/Automating Crypto Website API.csv'):\n",
    "            df.to_csv(r'/Users/lasya/Automating Crypto Website API.csv', header='column_names', index=False)\n",
    "        else:\n",
    "            df.to_csv(r'/Users/lasya/Automating Crypto Website API.csv', mode='a', header=False, index=False)    \n",
    "        \n",
    "    except (ConnectionError, Timeout, TooManyRedirects) as e:\n",
    "        print(e)\n",
    "\n",
    "# Loop to call the API 333 times\n",
    "for i in range(333):  # 333 API calls allowed per day\n",
    "    api_runner()  # Call the API runner function\n",
    "    print(f'API Runner Completed Successfully - Run {i+1}')  # Print success message for each run\n",
    "    sleep(60)  # Wait for 60 seconds before the next call\n",
    "\n",
    "    \n",
    "# After all runs are complete, you can save the DataFrame to a CSV if desired:\n",
    "# df.to_csv('crypto_data.csv', index=False)  # Save data to CSV"
   ]
  },
  {
   "cell_type": "code",
   "execution_count": null,
   "id": "477ea09e-e61d-4de5-a256-3a3c19c527d1",
   "metadata": {},
   "outputs": [],
   "source": [
    "df"
   ]
  },
  {
   "cell_type": "code",
   "execution_count": null,
   "id": "7b209505",
   "metadata": {},
   "outputs": [],
   "source": [
    "pd.set_option('display.float_format', lambda x: '%.5f' % x) "
   ]
  },
  {
   "cell_type": "code",
   "execution_count": null,
   "id": "d4c906de",
   "metadata": {},
   "outputs": [],
   "source": [
    "df"
   ]
  },
  {
   "cell_type": "code",
   "execution_count": null,
   "id": "414ed805",
   "metadata": {},
   "outputs": [],
   "source": [
    "df3 = df.groupby('name', sort = False)[['quote.USD.percent_change_1h', 'quote.USD.percent_change_24h', \n",
    "                                  'quote.USD.percent_change_7d', 'quote.USD.percent_change_30d', \n",
    "                                  'quote.USD.percent_change_60d', 'quote.USD.percent_change_90d']].mean()\n",
    "df3"
   ]
  },
  {
   "cell_type": "code",
   "execution_count": null,
   "id": "dfd3dd72",
   "metadata": {},
   "outputs": [],
   "source": [
    "df4 = df3.stack()\n",
    "\n",
    "df4"
   ]
  },
  {
   "cell_type": "code",
   "execution_count": null,
   "id": "6e8bea18",
   "metadata": {},
   "outputs": [],
   "source": [
    "df4.head(50)"
   ]
  },
  {
   "cell_type": "code",
   "execution_count": null,
   "id": "8b0791e6",
   "metadata": {},
   "outputs": [],
   "source": [
    "type(df3)"
   ]
  },
  {
   "cell_type": "code",
   "execution_count": null,
   "id": "4b80f605",
   "metadata": {},
   "outputs": [],
   "source": [
    "type(df4)"
   ]
  },
  {
   "cell_type": "code",
   "execution_count": null,
   "id": "615af616",
   "metadata": {},
   "outputs": [],
   "source": [
    "df5 = df4.to_frame(name = 'values')\n",
    "df5"
   ]
  },
  {
   "cell_type": "code",
   "execution_count": null,
   "id": "bfdd5cc3",
   "metadata": {},
   "outputs": [],
   "source": [
    "type(df5)"
   ]
  },
  {
   "cell_type": "code",
   "execution_count": null,
   "id": "0a0dba10",
   "metadata": {},
   "outputs": [],
   "source": [
    "num_rows = len(df5)"
   ]
  },
  {
   "cell_type": "code",
   "execution_count": null,
   "id": "a3b4bfd0",
   "metadata": {},
   "outputs": [],
   "source": [
    "df5.count()"
   ]
  },
  {
   "cell_type": "code",
   "execution_count": null,
   "id": "08c0920b",
   "metadata": {},
   "outputs": [],
   "source": [
    "index = pd.Index(range(num_rows))\n",
    "\n",
    "df6 = df5.reset_index()\n",
    "df6"
   ]
  },
  {
   "cell_type": "code",
   "execution_count": null,
   "id": "5c31fac8",
   "metadata": {},
   "outputs": [],
   "source": [
    "df7 = df6.rename(columns = {'level_1' : 'percent_change'})\n",
    "df7                            "
   ]
  },
  {
   "cell_type": "code",
   "execution_count": null,
   "id": "fae5b32e",
   "metadata": {},
   "outputs": [],
   "source": [
    "df7['percent_change'] = df7['percent_change'].replace(['quote.USD.percent_change_1h'], ['1h'])\n",
    "df7['percent_change'] = df7['percent_change'].replace(['quote.USD.percent_change_24h'], ['24h'])\n",
    "df7['percent_change'] = df7['percent_change'].replace(['quote.USD.percent_change_7d'], ['7d'])\n",
    "df7['percent_change'] = df7['percent_change'].replace(['quote.USD.percent_change_30d'], ['30d'])\n",
    "df7['percent_change'] = df7['percent_change'].replace(['quote.USD.percent_change_60d'], ['60d'])\n",
    "df7['percent_change'] = df7['percent_change'].replace(['quote.USD.percent_change_90d'], ['90d'])\n",
    "\n",
    "\n",
    "df7"
   ]
  },
  {
   "cell_type": "code",
   "execution_count": null,
   "id": "0e5966b2",
   "metadata": {},
   "outputs": [],
   "source": [
    "import seaborn as sns\n",
    "import matplotlib.pyplot as plt"
   ]
  },
  {
   "cell_type": "code",
   "execution_count": null,
   "id": "baf719a0",
   "metadata": {},
   "outputs": [],
   "source": []
  },
  {
   "cell_type": "code",
   "execution_count": null,
   "id": "9f186d32",
   "metadata": {},
   "outputs": [],
   "source": [
    "# Filter to include only the top 10 cryptocurrencies by name\n",
    "top_10 = df7['name'].unique()[:10]  # Get the first 10 unique names (cryptocurrencies)\n",
    "\n",
    "# Filter the DataFrame to include only these top 10 cryptocurrencies\n",
    "df_top_10 = df7[df7['name'].isin(top_10)]\n",
    "\n",
    "# Now plot the filtered data\n",
    "# Categorical Plot is used to visualize the relationship between categorical variable \n",
    "# & one or more numerical variable\n",
    "\n",
    "sns.catplot(x='percent_change', y='values', hue='name', data= df_top_10, kind='point')\n",
    "\n",
    "# Show the plot\n",
    "plt.show()"
   ]
  },
  {
   "cell_type": "code",
   "execution_count": null,
   "id": "8e087aea",
   "metadata": {},
   "outputs": [],
   "source": [
    "df10 = df[['name', 'quote.USD.price', 'timestamp']]\n",
    "df10 = df10.query(\"name == 'Bitcoin'\")\n",
    "df10"
   ]
  },
  {
   "cell_type": "code",
   "execution_count": null,
   "id": "1ddae55e",
   "metadata": {},
   "outputs": [],
   "source": [
    "sns.set_theme(style = \"darkgrid\")\n",
    "sns.lineplot(x = 'timestamp', y = 'quote.USD.price', data = df10)"
   ]
  }
 ],
 "metadata": {
  "kernelspec": {
   "display_name": "Python 3 (ipykernel)",
   "language": "python",
   "name": "python3"
  },
  "language_info": {
   "codemirror_mode": {
    "name": "ipython",
    "version": 3
   },
   "file_extension": ".py",
   "mimetype": "text/x-python",
   "name": "python",
   "nbconvert_exporter": "python",
   "pygments_lexer": "ipython3",
   "version": "3.9.12"
  }
 },
 "nbformat": 4,
 "nbformat_minor": 5
}
